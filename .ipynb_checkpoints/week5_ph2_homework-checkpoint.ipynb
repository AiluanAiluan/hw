{
 "cells": [
  {
   "cell_type": "markdown",
   "metadata": {},
   "source": [
    "<font size=5 color=\"Blue\"><b> Homework for Week 5</b></font><br>\n",
    "<font size=4><b>The excercises in this lecture to have a brief \"try-and-feel\" about python language</b></font><br>\n",
    "<font size=4><b>You may need to ref to the lecture material \"2019-11-17.ppt\" and/or examples in \"Python Lab.ipynb\" for hints</b></font>"
   ]
  },
  {
   "cell_type": "markdown",
   "metadata": {},
   "source": [
    "<font size=5 color=\"green\"><b>Q1: What are the key elements in python (or most other) programming language?</b></font>"
   ]
  },
  {
   "cell_type": "markdown",
   "metadata": {},
   "source": [
    "Write your answer within this cell:\n",
    "\n",
    "\n",
    "\n",
    "\n",
    "\n",
    "\n"
   ]
  },
  {
   "cell_type": "markdown",
   "metadata": {},
   "source": [
    "<font size=5 color=\"green\"><b>Q2: How to load the libraries (tools) for a python code? Please try to load a few libraries we have used in the classroom</b></font>"
   ]
  },
  {
   "cell_type": "code",
   "execution_count": null,
   "metadata": {
    "ExecuteTime": {
     "end_time": "2019-11-19T05:59:01.687535Z",
     "start_time": "2019-11-19T05:59:01.683520Z"
    }
   },
   "outputs": [],
   "source": [
    "## write your anwer within this cell:\n",
    "\n",
    "\n",
    "\n",
    "\n",
    "\n"
   ]
  },
  {
   "cell_type": "markdown",
   "metadata": {},
   "source": [
    "<font size=5 color=\"green\"><b>Q3: Print is one of the most fundamental command. Load \"pprint\" library. and then compare \"print\" and \"pprint\" </b></font>"
   ]
  },
  {
   "cell_type": "code",
   "execution_count": null,
   "metadata": {
    "ExecuteTime": {
     "end_time": "2019-11-19T06:10:17.200358Z",
     "start_time": "2019-11-19T06:10:17.198358Z"
    }
   },
   "outputs": [],
   "source": [
    "# 1. load pprint library in this cell:\n"
   ]
  },
  {
   "cell_type": "code",
   "execution_count": null,
   "metadata": {
    "ExecuteTime": {
     "end_time": "2019-11-19T06:11:13.090215Z",
     "start_time": "2019-11-19T06:11:13.085217Z"
    }
   },
   "outputs": [],
   "source": [
    "# this is the data to print. you need to run this cell to load this data\n",
    "data = [\n",
    "    (1, {'a': 'A', 'b': 'B', 'c': 'C', 'd': 'D'}),\n",
    "    (2, {'e': 'E', 'f': 'F', 'g': 'G', 'h': 'H',\n",
    "         'i': 'I', 'j': 'J', 'k': 'K', 'l': 'L'}),\n",
    "    (3, ['m', 'n']),\n",
    "    (4, ['o', 'p', 'q']),\n",
    "    (5, ['r', 's', 't''u', 'v', 'x', 'y', 'z']),\n",
    "]"
   ]
  },
  {
   "cell_type": "code",
   "execution_count": null,
   "metadata": {},
   "outputs": [],
   "source": [
    "# 2. print and pprint \"data\" above within this cell \n",
    "\n"
   ]
  },
  {
   "cell_type": "markdown",
   "metadata": {
    "ExecuteTime": {
     "end_time": "2019-11-19T06:08:15.781043Z",
     "start_time": "2019-11-19T06:08:15.775042Z"
    }
   },
   "source": [
    "<font color=\"red\" size=3><b>3. Advanced: Can you tell what data type(s) is this \"data\" variable? This is not related to pprint. </b></font><br> \n",
    "Explain in the cell below:"
   ]
  },
  {
   "cell_type": "markdown",
   "metadata": {},
   "source": [
    "#answer here:\n"
   ]
  },
  {
   "cell_type": "markdown",
   "metadata": {
    "ExecuteTime": {
     "end_time": "2019-11-17T07:47:32.442559Z",
     "start_time": "2019-11-17T07:47:24.800914Z"
    }
   },
   "source": [
    "<font size=5 color=\"green\"><b>Q4: Practice input </b></font><br>\n",
    "1. Use input (i.e. input(\"enter a number\") ) to get the answer for 845+982<br>\n",
    "(ref to Section 2 in \"Python Lab\".ipynb)"
   ]
  },
  {
   "cell_type": "code",
   "execution_count": null,
   "metadata": {
    "ExecuteTime": {
     "end_time": "2019-11-19T06:40:48.274722Z",
     "start_time": "2019-11-19T06:40:48.271760Z"
    }
   },
   "outputs": [],
   "source": [
    "# write your answer below: \n",
    "  "
   ]
  },
  {
   "cell_type": "markdown",
   "metadata": {},
   "source": [
    "2. Use input (i.e. input(\"enter a number\") ) to get the answer for 3.9+3.14156<br>\n",
    "(ref to Section 4 in \"Python Lab\".ipynb)<br>\n",
    "The answer should have only two decimals"
   ]
  },
  {
   "cell_type": "code",
   "execution_count": null,
   "metadata": {
    "ExecuteTime": {
     "end_time": "2019-11-19T06:40:51.553491Z",
     "start_time": "2019-11-19T06:40:51.551494Z"
    }
   },
   "outputs": [],
   "source": [
    "# write your answer below: \n",
    "\n",
    "\n",
    "\n"
   ]
  },
  {
   "cell_type": "markdown",
   "metadata": {},
   "source": [
    "<font color=\"red\" size=3><b>3. Advanced: explain what does the following block of code do</b></font><br>  "
   ]
  },
  {
   "cell_type": "code",
   "execution_count": null,
   "metadata": {
    "ExecuteTime": {
     "end_time": "2019-11-19T06:40:54.450610Z",
     "start_time": "2019-11-19T06:40:54.446645Z"
    }
   },
   "outputs": [],
   "source": [
    "#code: \n",
    "def inputNumber(message):\n",
    "  while 1==1:\n",
    "    try:\n",
    "       userInput = int(input(message))       \n",
    "    except ValueError:\n",
    "       print(\"Not an integer! Try again.\")\n",
    "       continue\n",
    "    else:\n",
    "       return userInput \n",
    "       break  \n",
    "    "
   ]
  },
  {
   "cell_type": "markdown",
   "metadata": {},
   "source": [
    "#write your anwer here: \n"
   ]
  },
  {
   "cell_type": "markdown",
   "metadata": {
    "ExecuteTime": {
     "end_time": "2019-11-17T08:14:01.974911Z",
     "start_time": "2019-11-17T08:13:58.364912Z"
    }
   },
   "source": [
    "4. the following two lines may and maynot work. why? "
   ]
  },
  {
   "cell_type": "code",
   "execution_count": null,
   "metadata": {
    "ExecuteTime": {
     "end_time": "2019-11-19T06:42:03.065208Z",
     "start_time": "2019-11-19T06:42:03.055202Z"
    }
   },
   "outputs": [],
   "source": [
    "user = getpass.getuser() \n",
    "pw=getpass.getpass() "
   ]
  },
  {
   "cell_type": "markdown",
   "metadata": {},
   "source": [
    "#explain your answer here: \n",
    "\n",
    "\n"
   ]
  },
  {
   "cell_type": "markdown",
   "metadata": {},
   "source": [
    "<font size=5 color=\"green\"><b>Q5: string operation and function </b></font><br>\n",
    "<b>1. Arranging characters: for inputStr, put all numbers in the front, lower case letters in the middle and upper case letters and others at the end. </b>"
   ]
  },
  {
   "cell_type": "code",
   "execution_count": null,
   "metadata": {
    "ExecuteTime": {
     "end_time": "2019-11-19T06:50:05.097338Z",
     "start_time": "2019-11-19T06:50:05.094338Z"
    }
   },
   "outputs": [],
   "source": [
    "inputStr = \"Python is a popular programming language. It was created by Guido van Rossum, and released in 1991\""
   ]
  },
  {
   "cell_type": "code",
   "execution_count": null,
   "metadata": {},
   "outputs": [],
   "source": [
    "#write your answer here:\n",
    "\n",
    "\n",
    "\n",
    "\n",
    "\n",
    "\n"
   ]
  },
  {
   "cell_type": "markdown",
   "metadata": {
    "ExecuteTime": {
     "end_time": "2019-11-19T07:02:49.055518Z",
     "start_time": "2019-11-19T07:02:49.050519Z"
    }
   },
   "source": [
    "<b>2. Explain the following block of code. Run the code  </b>"
   ]
  },
  {
   "cell_type": "code",
   "execution_count": null,
   "metadata": {
    "ExecuteTime": {
     "end_time": "2019-11-19T06:57:31.729434Z",
     "start_time": "2019-11-19T06:57:31.725414Z"
    }
   },
   "outputs": [],
   "source": [
    "import re\n",
    "myReportCard = \"Physics: 4.0, English:3.3, Chinese: 3.9, Precalculus: 3.5 what is my averge gpa?\"\n",
    "scoreList = [float(num) for num in re.findall(r'-?\\d+\\.?\\d*', myReportCard)] \n",
    "total = 0.0\n",
    "for scroe in scoreList:\n",
    "    total+=scroe\n",
    "\n",
    "percentage = total/len(scoreList)  \n",
    "print(\"Total Marks is:\", total, \"Percentage is \", percentage) "
   ]
  },
  {
   "cell_type": "markdown",
   "metadata": {},
   "source": [
    "#Answer here: \n",
    "\n",
    "\n",
    "\n"
   ]
  },
  {
   "cell_type": "markdown",
   "metadata": {},
   "source": [
    "<font color=\"red\" size=3><b>Advanced: 3. write a function that will do the same as above block of code </b></font><br>  "
   ]
  },
  {
   "cell_type": "code",
   "execution_count": null,
   "metadata": {
    "ExecuteTime": {
     "end_time": "2019-11-19T07:01:41.525900Z",
     "start_time": "2019-11-19T07:01:41.521930Z"
    }
   },
   "outputs": [],
   "source": [
    "student_reportcard=\"Peter --Physics: 4.0, English:3.3, Chinese: 3.9, Precalculus: 3.5\"\n",
    "def get_gpa(student_reportcard):\n",
    "    #fill your code here. \n",
    "     "
   ]
  },
  {
   "cell_type": "code",
   "execution_count": null,
   "metadata": {},
   "outputs": [],
   "source": [
    "#run your function: \n",
    "get_gpa(student_reportcard)"
   ]
  }
 ],
 "metadata": {
  "kernelspec": {
   "display_name": "Python 3",
   "language": "python",
   "name": "python3"
  },
  "language_info": {
   "codemirror_mode": {
    "name": "ipython",
    "version": 3
   },
   "file_extension": ".py",
   "mimetype": "text/x-python",
   "name": "python",
   "nbconvert_exporter": "python",
   "pygments_lexer": "ipython3",
   "version": "3.7.4"
  },
  "toc": {
   "base_numbering": 1,
   "nav_menu": {},
   "number_sections": true,
   "sideBar": true,
   "skip_h1_title": false,
   "title_cell": "Table of Contents",
   "title_sidebar": "Contents",
   "toc_cell": false,
   "toc_position": {},
   "toc_section_display": true,
   "toc_window_display": true
  }
 },
 "nbformat": 4,
 "nbformat_minor": 2
}
